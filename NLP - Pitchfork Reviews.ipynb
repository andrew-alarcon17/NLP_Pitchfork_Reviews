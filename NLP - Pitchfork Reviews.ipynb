{
 "cells": [
  {
   "cell_type": "markdown",
   "metadata": {},
   "source": [
    "# Introduction"
   ]
  },
  {
   "cell_type": "markdown",
   "metadata": {},
   "source": [
    "In this notebook, I will look at 200 Pitchfork music reviews and try to predict if an album is considered good (above 6.5 is 1) or bad (below 6.5 is 0). I will be creating a Bag of Words model in order to be used on my classification machine learning models.\n",
    "Before I get to predicting though, I will convert the scores of these records to binary, and then convert the csv to a tsv in order to avoid the computer confusing a comma as a way to identify the end of a column."
   ]
  },
  {
   "cell_type": "code",
   "execution_count": 117,
   "metadata": {},
   "outputs": [
    {
     "data": {
      "text/html": [
       "<div>\n",
       "<style scoped>\n",
       "    .dataframe tbody tr th:only-of-type {\n",
       "        vertical-align: middle;\n",
       "    }\n",
       "\n",
       "    .dataframe tbody tr th {\n",
       "        vertical-align: top;\n",
       "    }\n",
       "\n",
       "    .dataframe thead th {\n",
       "        text-align: right;\n",
       "    }\n",
       "</style>\n",
       "<table border=\"1\" class=\"dataframe\">\n",
       "  <thead>\n",
       "    <tr style=\"text-align: right;\">\n",
       "      <th></th>\n",
       "      <th>reviewid</th>\n",
       "      <th>Unnamed: 0</th>\n",
       "      <th>title</th>\n",
       "      <th>url</th>\n",
       "      <th>score</th>\n",
       "      <th>best_new_music</th>\n",
       "      <th>author</th>\n",
       "      <th>author_type</th>\n",
       "      <th>pub_date</th>\n",
       "      <th>pub_weekday</th>\n",
       "      <th>pub_day</th>\n",
       "      <th>pub_month</th>\n",
       "      <th>pub_year</th>\n",
       "      <th>reviewid.1</th>\n",
       "      <th>content</th>\n",
       "      <th>genre</th>\n",
       "      <th>label</th>\n",
       "      <th>artist</th>\n",
       "    </tr>\n",
       "  </thead>\n",
       "  <tbody>\n",
       "    <tr>\n",
       "      <td>0</td>\n",
       "      <td>22703</td>\n",
       "      <td>0</td>\n",
       "      <td>mezzanine</td>\n",
       "      <td>http://pitchfork.com/reviews/albums/22703-mezz...</td>\n",
       "      <td>9.3</td>\n",
       "      <td>0</td>\n",
       "      <td>nate patrin</td>\n",
       "      <td>contributor</td>\n",
       "      <td>2017-01-08</td>\n",
       "      <td>6</td>\n",
       "      <td>8</td>\n",
       "      <td>1</td>\n",
       "      <td>2017</td>\n",
       "      <td>22703</td>\n",
       "      <td>“Trip-hop” eventually became a ’90s punchline,...</td>\n",
       "      <td>electronic</td>\n",
       "      <td>virgin</td>\n",
       "      <td>massive attack</td>\n",
       "    </tr>\n",
       "    <tr>\n",
       "      <td>1</td>\n",
       "      <td>22721</td>\n",
       "      <td>1</td>\n",
       "      <td>prelapsarian</td>\n",
       "      <td>http://pitchfork.com/reviews/albums/22721-prel...</td>\n",
       "      <td>7.9</td>\n",
       "      <td>0</td>\n",
       "      <td>zoe camp</td>\n",
       "      <td>contributor</td>\n",
       "      <td>2017-01-07</td>\n",
       "      <td>5</td>\n",
       "      <td>7</td>\n",
       "      <td>1</td>\n",
       "      <td>2017</td>\n",
       "      <td>22721</td>\n",
       "      <td>Eight years, five albums, and two EPs in, the ...</td>\n",
       "      <td>metal</td>\n",
       "      <td>hathenter</td>\n",
       "      <td>krallice</td>\n",
       "    </tr>\n",
       "    <tr>\n",
       "      <td>2</td>\n",
       "      <td>22659</td>\n",
       "      <td>2</td>\n",
       "      <td>all of them naturals</td>\n",
       "      <td>http://pitchfork.com/reviews/albums/22659-all-...</td>\n",
       "      <td>7.3</td>\n",
       "      <td>0</td>\n",
       "      <td>david glickman</td>\n",
       "      <td>contributor</td>\n",
       "      <td>2017-01-07</td>\n",
       "      <td>5</td>\n",
       "      <td>7</td>\n",
       "      <td>1</td>\n",
       "      <td>2017</td>\n",
       "      <td>22659</td>\n",
       "      <td>Minneapolis’ Uranium Club seem to revel in bei...</td>\n",
       "      <td>rock</td>\n",
       "      <td>static shock</td>\n",
       "      <td>uranium club</td>\n",
       "    </tr>\n",
       "    <tr>\n",
       "      <td>3</td>\n",
       "      <td>22661</td>\n",
       "      <td>4</td>\n",
       "      <td>first songs</td>\n",
       "      <td>http://pitchfork.com/reviews/albums/22661-firs...</td>\n",
       "      <td>9.0</td>\n",
       "      <td>1</td>\n",
       "      <td>jenn pelly</td>\n",
       "      <td>associate reviews editor</td>\n",
       "      <td>2017-01-06</td>\n",
       "      <td>4</td>\n",
       "      <td>6</td>\n",
       "      <td>1</td>\n",
       "      <td>2017</td>\n",
       "      <td>22661</td>\n",
       "      <td>Kleenex began with a crash. It transpired one ...</td>\n",
       "      <td>rock</td>\n",
       "      <td>kill rock stars</td>\n",
       "      <td>kleenex, liliput</td>\n",
       "    </tr>\n",
       "    <tr>\n",
       "      <td>4</td>\n",
       "      <td>22725</td>\n",
       "      <td>8</td>\n",
       "      <td>new start</td>\n",
       "      <td>http://pitchfork.com/reviews/albums/22725-new-...</td>\n",
       "      <td>8.1</td>\n",
       "      <td>0</td>\n",
       "      <td>kevin lozano</td>\n",
       "      <td>tracks coordinator</td>\n",
       "      <td>2017-01-06</td>\n",
       "      <td>4</td>\n",
       "      <td>6</td>\n",
       "      <td>1</td>\n",
       "      <td>2017</td>\n",
       "      <td>22725</td>\n",
       "      <td>It is impossible to consider a given release b...</td>\n",
       "      <td>electronic</td>\n",
       "      <td>teklife</td>\n",
       "      <td>taso</td>\n",
       "    </tr>\n",
       "  </tbody>\n",
       "</table>\n",
       "</div>"
      ],
      "text/plain": [
       "   reviewid  Unnamed: 0                 title  \\\n",
       "0     22703           0             mezzanine   \n",
       "1     22721           1          prelapsarian   \n",
       "2     22659           2  all of them naturals   \n",
       "3     22661           4           first songs   \n",
       "4     22725           8             new start   \n",
       "\n",
       "                                                 url  score  best_new_music  \\\n",
       "0  http://pitchfork.com/reviews/albums/22703-mezz...    9.3               0   \n",
       "1  http://pitchfork.com/reviews/albums/22721-prel...    7.9               0   \n",
       "2  http://pitchfork.com/reviews/albums/22659-all-...    7.3               0   \n",
       "3  http://pitchfork.com/reviews/albums/22661-firs...    9.0               1   \n",
       "4  http://pitchfork.com/reviews/albums/22725-new-...    8.1               0   \n",
       "\n",
       "           author               author_type    pub_date  pub_weekday  pub_day  \\\n",
       "0     nate patrin               contributor  2017-01-08            6        8   \n",
       "1        zoe camp               contributor  2017-01-07            5        7   \n",
       "2  david glickman               contributor  2017-01-07            5        7   \n",
       "3      jenn pelly  associate reviews editor  2017-01-06            4        6   \n",
       "4    kevin lozano        tracks coordinator  2017-01-06            4        6   \n",
       "\n",
       "   pub_month  pub_year  reviewid.1  \\\n",
       "0          1      2017       22703   \n",
       "1          1      2017       22721   \n",
       "2          1      2017       22659   \n",
       "3          1      2017       22661   \n",
       "4          1      2017       22725   \n",
       "\n",
       "                                             content       genre  \\\n",
       "0  “Trip-hop” eventually became a ’90s punchline,...  electronic   \n",
       "1  Eight years, five albums, and two EPs in, the ...       metal   \n",
       "2  Minneapolis’ Uranium Club seem to revel in bei...        rock   \n",
       "3  Kleenex began with a crash. It transpired one ...        rock   \n",
       "4  It is impossible to consider a given release b...  electronic   \n",
       "\n",
       "             label            artist  \n",
       "0           virgin    massive attack  \n",
       "1        hathenter          krallice  \n",
       "2     static shock      uranium club  \n",
       "3  kill rock stars  kleenex, liliput  \n",
       "4          teklife              taso  "
      ]
     },
     "execution_count": 117,
     "metadata": {},
     "output_type": "execute_result"
    }
   ],
   "source": [
    "import pandas as pd\n",
    "import numpy as np\n",
    "\n",
    "df = pd.read_csv(\"reviews.csv\")\n",
    "\n",
    "df.head()"
   ]
  },
  {
   "cell_type": "markdown",
   "metadata": {},
   "source": [
    "Since we are working with a rather large data set, with each row having its own unique and lenghty review, we will look at the first 100 reviews that appear on this data set."
   ]
  },
  {
   "cell_type": "code",
   "execution_count": 118,
   "metadata": {},
   "outputs": [
    {
     "data": {
      "text/html": [
       "<div>\n",
       "<style scoped>\n",
       "    .dataframe tbody tr th:only-of-type {\n",
       "        vertical-align: middle;\n",
       "    }\n",
       "\n",
       "    .dataframe tbody tr th {\n",
       "        vertical-align: top;\n",
       "    }\n",
       "\n",
       "    .dataframe thead th {\n",
       "        text-align: right;\n",
       "    }\n",
       "</style>\n",
       "<table border=\"1\" class=\"dataframe\">\n",
       "  <thead>\n",
       "    <tr style=\"text-align: right;\">\n",
       "      <th></th>\n",
       "      <th>artist</th>\n",
       "      <th>title</th>\n",
       "      <th>content</th>\n",
       "      <th>score</th>\n",
       "    </tr>\n",
       "  </thead>\n",
       "  <tbody>\n",
       "    <tr>\n",
       "      <td>21</td>\n",
       "      <td>nine inch nails</td>\n",
       "      <td>not the actual events ep</td>\n",
       "      <td>Nine Inch Nails mastermind Trent Reznor has sp...</td>\n",
       "      <td>6.3</td>\n",
       "    </tr>\n",
       "    <tr>\n",
       "      <td>69</td>\n",
       "      <td>alex izenberg</td>\n",
       "      <td>harlequin</td>\n",
       "      <td>Los Angeles songwriter Alex Izenberg describes...</td>\n",
       "      <td>6.3</td>\n",
       "    </tr>\n",
       "    <tr>\n",
       "      <td>133</td>\n",
       "      <td>j.g. biberkopf</td>\n",
       "      <td>ecologies ii: ecosystems of excess</td>\n",
       "      <td>Jacques Gaspard Biberkopf makes music for turb...</td>\n",
       "      <td>6.3</td>\n",
       "    </tr>\n",
       "    <tr>\n",
       "      <td>163</td>\n",
       "      <td>tim buckley</td>\n",
       "      <td>lady, give me your key: the unissued 1967 solo...</td>\n",
       "      <td>While their recorded output was inversely prop...</td>\n",
       "      <td>6.3</td>\n",
       "    </tr>\n",
       "  </tbody>\n",
       "</table>\n",
       "</div>"
      ],
      "text/plain": [
       "              artist                                              title  \\\n",
       "21   nine inch nails                           not the actual events ep   \n",
       "69     alex izenberg                                          harlequin   \n",
       "133   j.g. biberkopf                 ecologies ii: ecosystems of excess   \n",
       "163      tim buckley  lady, give me your key: the unissued 1967 solo...   \n",
       "\n",
       "                                               content  score  \n",
       "21   Nine Inch Nails mastermind Trent Reznor has sp...    6.3  \n",
       "69   Los Angeles songwriter Alex Izenberg describes...    6.3  \n",
       "133  Jacques Gaspard Biberkopf makes music for turb...    6.3  \n",
       "163  While their recorded output was inversely prop...    6.3  "
      ]
     },
     "execution_count": 118,
     "metadata": {},
     "output_type": "execute_result"
    }
   ],
   "source": [
    "new = df[['artist', 'title', 'content', 'score']].copy()\n",
    "data=new.head(200)\n",
    "data[data['score'] == 6.3] #This is to double check if the next cell will be correct"
   ]
  },
  {
   "cell_type": "markdown",
   "metadata": {},
   "source": [
    "The last line on the cell above is used to check which albums are scored lower than a 6.5. I'm going to change all the scores to binary, with scores > 6.5 equalling to 1 and scores < 6.5 equalling to 0. So once I change the data frame, I'm going to double check to see if these albums will succefully turn from 6.3 to 0."
   ]
  },
  {
   "cell_type": "markdown",
   "metadata": {},
   "source": [
    "#### Replacing all scores with either positive (>6.5) or negative (<6.5)"
   ]
  },
  {
   "cell_type": "code",
   "execution_count": 119,
   "metadata": {},
   "outputs": [
    {
     "data": {
      "text/html": [
       "<div>\n",
       "<style scoped>\n",
       "    .dataframe tbody tr th:only-of-type {\n",
       "        vertical-align: middle;\n",
       "    }\n",
       "\n",
       "    .dataframe tbody tr th {\n",
       "        vertical-align: top;\n",
       "    }\n",
       "\n",
       "    .dataframe thead th {\n",
       "        text-align: right;\n",
       "    }\n",
       "</style>\n",
       "<table border=\"1\" class=\"dataframe\">\n",
       "  <thead>\n",
       "    <tr style=\"text-align: right;\">\n",
       "      <th></th>\n",
       "      <th>artist</th>\n",
       "      <th>title</th>\n",
       "      <th>content</th>\n",
       "      <th>score</th>\n",
       "    </tr>\n",
       "  </thead>\n",
       "  <tbody>\n",
       "    <tr>\n",
       "      <td>0</td>\n",
       "      <td>massive attack</td>\n",
       "      <td>mezzanine</td>\n",
       "      <td>“Trip-hop” eventually became a ’90s punchline,...</td>\n",
       "      <td>1.0</td>\n",
       "    </tr>\n",
       "    <tr>\n",
       "      <td>1</td>\n",
       "      <td>krallice</td>\n",
       "      <td>prelapsarian</td>\n",
       "      <td>Eight years, five albums, and two EPs in, the ...</td>\n",
       "      <td>1.0</td>\n",
       "    </tr>\n",
       "    <tr>\n",
       "      <td>2</td>\n",
       "      <td>uranium club</td>\n",
       "      <td>all of them naturals</td>\n",
       "      <td>Minneapolis’ Uranium Club seem to revel in bei...</td>\n",
       "      <td>1.0</td>\n",
       "    </tr>\n",
       "    <tr>\n",
       "      <td>3</td>\n",
       "      <td>kleenex, liliput</td>\n",
       "      <td>first songs</td>\n",
       "      <td>Kleenex began with a crash. It transpired one ...</td>\n",
       "      <td>1.0</td>\n",
       "    </tr>\n",
       "    <tr>\n",
       "      <td>4</td>\n",
       "      <td>taso</td>\n",
       "      <td>new start</td>\n",
       "      <td>It is impossible to consider a given release b...</td>\n",
       "      <td>1.0</td>\n",
       "    </tr>\n",
       "    <tr>\n",
       "      <td>...</td>\n",
       "      <td>...</td>\n",
       "      <td>...</td>\n",
       "      <td>...</td>\n",
       "      <td>...</td>\n",
       "    </tr>\n",
       "    <tr>\n",
       "      <td>195</td>\n",
       "      <td>lambchop</td>\n",
       "      <td>flotus</td>\n",
       "      <td>Over the course of Lambchop’s two decade-plus ...</td>\n",
       "      <td>1.0</td>\n",
       "    </tr>\n",
       "    <tr>\n",
       "      <td>196</td>\n",
       "      <td>roman flgel</td>\n",
       "      <td>all the right noises</td>\n",
       "      <td>Roman Flügel has released hundreds of tracks o...</td>\n",
       "      <td>1.0</td>\n",
       "    </tr>\n",
       "    <tr>\n",
       "      <td>197</td>\n",
       "      <td>dj rude one</td>\n",
       "      <td>onederful</td>\n",
       "      <td>As one-half of Single Minded Pros alongside Do...</td>\n",
       "      <td>1.0</td>\n",
       "    </tr>\n",
       "    <tr>\n",
       "      <td>198</td>\n",
       "      <td>syrinx</td>\n",
       "      <td>tumblers from the vault (19701972)</td>\n",
       "      <td>On the same freezing February day in 1968, Wen...</td>\n",
       "      <td>1.0</td>\n",
       "    </tr>\n",
       "    <tr>\n",
       "      <td>199</td>\n",
       "      <td>khemmis</td>\n",
       "      <td>hunted</td>\n",
       "      <td>Denver’s Khemmis traffic in longform doom meta...</td>\n",
       "      <td>1.0</td>\n",
       "    </tr>\n",
       "  </tbody>\n",
       "</table>\n",
       "<p>200 rows × 4 columns</p>\n",
       "</div>"
      ],
      "text/plain": [
       "               artist                               title  \\\n",
       "0      massive attack                           mezzanine   \n",
       "1            krallice                        prelapsarian   \n",
       "2        uranium club                all of them naturals   \n",
       "3    kleenex, liliput                         first songs   \n",
       "4                taso                           new start   \n",
       "..                ...                                 ...   \n",
       "195          lambchop                              flotus   \n",
       "196       roman flgel                all the right noises   \n",
       "197       dj rude one                           onederful   \n",
       "198            syrinx  tumblers from the vault (19701972)   \n",
       "199           khemmis                              hunted   \n",
       "\n",
       "                                               content  score  \n",
       "0    “Trip-hop” eventually became a ’90s punchline,...    1.0  \n",
       "1    Eight years, five albums, and two EPs in, the ...    1.0  \n",
       "2    Minneapolis’ Uranium Club seem to revel in bei...    1.0  \n",
       "3    Kleenex began with a crash. It transpired one ...    1.0  \n",
       "4    It is impossible to consider a given release b...    1.0  \n",
       "..                                                 ...    ...  \n",
       "195  Over the course of Lambchop’s two decade-plus ...    1.0  \n",
       "196  Roman Flügel has released hundreds of tracks o...    1.0  \n",
       "197  As one-half of Single Minded Pros alongside Do...    1.0  \n",
       "198  On the same freezing February day in 1968, Wen...    1.0  \n",
       "199  Denver’s Khemmis traffic in longform doom meta...    1.0  \n",
       "\n",
       "[200 rows x 4 columns]"
      ]
     },
     "execution_count": 119,
     "metadata": {},
     "output_type": "execute_result"
    }
   ],
   "source": [
    "data['score'].values[data['score'] >= 6.5] = 1\n",
    "data['score'].values[(data['score'] < 6.5) & (data['score'] != 1)] = 0\n",
    "data"
   ]
  },
  {
   "cell_type": "code",
   "execution_count": 120,
   "metadata": {},
   "outputs": [
    {
     "data": {
      "text/html": [
       "<div>\n",
       "<style scoped>\n",
       "    .dataframe tbody tr th:only-of-type {\n",
       "        vertical-align: middle;\n",
       "    }\n",
       "\n",
       "    .dataframe tbody tr th {\n",
       "        vertical-align: top;\n",
       "    }\n",
       "\n",
       "    .dataframe thead th {\n",
       "        text-align: right;\n",
       "    }\n",
       "</style>\n",
       "<table border=\"1\" class=\"dataframe\">\n",
       "  <thead>\n",
       "    <tr style=\"text-align: right;\">\n",
       "      <th></th>\n",
       "      <th>artist</th>\n",
       "      <th>title</th>\n",
       "      <th>content</th>\n",
       "      <th>score</th>\n",
       "    </tr>\n",
       "  </thead>\n",
       "  <tbody>\n",
       "    <tr>\n",
       "      <td>21</td>\n",
       "      <td>nine inch nails</td>\n",
       "      <td>not the actual events ep</td>\n",
       "      <td>Nine Inch Nails mastermind Trent Reznor has sp...</td>\n",
       "      <td>0.0</td>\n",
       "    </tr>\n",
       "  </tbody>\n",
       "</table>\n",
       "</div>"
      ],
      "text/plain": [
       "             artist                     title  \\\n",
       "21  nine inch nails  not the actual events ep   \n",
       "\n",
       "                                              content  score  \n",
       "21  Nine Inch Nails mastermind Trent Reznor has sp...    0.0  "
      ]
     },
     "execution_count": 120,
     "metadata": {},
     "output_type": "execute_result"
    }
   ],
   "source": [
    "data[data['artist'] == 'nine inch nails']"
   ]
  },
  {
   "cell_type": "markdown",
   "metadata": {},
   "source": [
    "It worked! Now let's export this data frame to a csv, and then convert it to a tsv on the numbers application (done outside of this notebook) and load it.\n",
    "A tsv is desired here because the reviews themselves have commas in them, so a csv would intepret those commas as the end of a column. This is not desired, and having tab delimited columns would fix this issue."
   ]
  },
  {
   "cell_type": "code",
   "execution_count": 121,
   "metadata": {},
   "outputs": [],
   "source": [
    "export_csv = data.to_csv('binary_reviews.csv', index=None, header=True)"
   ]
  },
  {
   "cell_type": "code",
   "execution_count": 122,
   "metadata": {},
   "outputs": [],
   "source": [
    "dataset = pd.read_csv('binary_reviews.tsv', delimiter='\\t', quoting=3)"
   ]
  },
  {
   "cell_type": "code",
   "execution_count": null,
   "metadata": {},
   "outputs": [],
   "source": [
    "export_csv = data.to_csv('binary_reviews_long.csv', index=None, header=True)"
   ]
  },
  {
   "cell_type": "code",
   "execution_count": 123,
   "metadata": {},
   "outputs": [
    {
     "data": {
      "text/html": [
       "<div>\n",
       "<style scoped>\n",
       "    .dataframe tbody tr th:only-of-type {\n",
       "        vertical-align: middle;\n",
       "    }\n",
       "\n",
       "    .dataframe tbody tr th {\n",
       "        vertical-align: top;\n",
       "    }\n",
       "\n",
       "    .dataframe thead th {\n",
       "        text-align: right;\n",
       "    }\n",
       "</style>\n",
       "<table border=\"1\" class=\"dataframe\">\n",
       "  <thead>\n",
       "    <tr style=\"text-align: right;\">\n",
       "      <th></th>\n",
       "      <th>artist</th>\n",
       "      <th>title</th>\n",
       "      <th>content</th>\n",
       "      <th>score</th>\n",
       "    </tr>\n",
       "  </thead>\n",
       "  <tbody>\n",
       "    <tr>\n",
       "      <td>9</td>\n",
       "      <td>the lox</td>\n",
       "      <td>filthy america its beautiful</td>\n",
       "      <td>\"There were innumerable cameos at the Bad Boy ...</td>\n",
       "      <td>0.0</td>\n",
       "    </tr>\n",
       "    <tr>\n",
       "      <td>13</td>\n",
       "      <td>yasiin bey</td>\n",
       "      <td>december 99th</td>\n",
       "      <td>\"In January 2016, rapper/actor Yasiin Bey anno...</td>\n",
       "      <td>0.0</td>\n",
       "    </tr>\n",
       "    <tr>\n",
       "      <td>21</td>\n",
       "      <td>nine inch nails</td>\n",
       "      <td>not the actual events ep</td>\n",
       "      <td>\"Nine Inch Nails mastermind Trent Reznor has s...</td>\n",
       "      <td>0.0</td>\n",
       "    </tr>\n",
       "    <tr>\n",
       "      <td>29</td>\n",
       "      <td>ab-soul</td>\n",
       "      <td>do what thou wilt.</td>\n",
       "      <td>\"Occultist and ceremonial magician Aleister Cr...</td>\n",
       "      <td>0.0</td>\n",
       "    </tr>\n",
       "    <tr>\n",
       "      <td>35</td>\n",
       "      <td>hodgy</td>\n",
       "      <td>fireplace: thenottheotherside</td>\n",
       "      <td>\"Technically, Fireplace: TheNotTheOtherSide is...</td>\n",
       "      <td>0.0</td>\n",
       "    </tr>\n",
       "    <tr>\n",
       "      <td>37</td>\n",
       "      <td>a-trak</td>\n",
       "      <td>in the loop: a decade of remixes</td>\n",
       "      <td>\"“Making a song from alpha to omega is challen...</td>\n",
       "      <td>0.0</td>\n",
       "    </tr>\n",
       "    <tr>\n",
       "      <td>39</td>\n",
       "      <td>kevin abstract</td>\n",
       "      <td>american boyfriend: a suburban love story</td>\n",
       "      <td>\"Kevin Abstract just happens to rap; in anothe...</td>\n",
       "      <td>0.0</td>\n",
       "    </tr>\n",
       "    <tr>\n",
       "      <td>41</td>\n",
       "      <td>deadmau5</td>\n",
       "      <td>w:/2016album/</td>\n",
       "      <td>\"There aren’t many electronic dance musicians ...</td>\n",
       "      <td>0.0</td>\n",
       "    </tr>\n",
       "    <tr>\n",
       "      <td>45</td>\n",
       "      <td>post malone</td>\n",
       "      <td>stoney</td>\n",
       "      <td>\"“White Iverson” is not a foundational brick; ...</td>\n",
       "      <td>0.0</td>\n",
       "    </tr>\n",
       "    <tr>\n",
       "      <td>54</td>\n",
       "      <td>various artists</td>\n",
       "      <td>the hamilton mixtape</td>\n",
       "      <td>\"The Hamilton original cast recording recently...</td>\n",
       "      <td>0.0</td>\n",
       "    </tr>\n",
       "    <tr>\n",
       "      <td>69</td>\n",
       "      <td>alex izenberg</td>\n",
       "      <td>harlequin</td>\n",
       "      <td>\"Los Angeles songwriter Alex Izenberg describe...</td>\n",
       "      <td>0.0</td>\n",
       "    </tr>\n",
       "    <tr>\n",
       "      <td>71</td>\n",
       "      <td>fetty wap</td>\n",
       "      <td>zoovier</td>\n",
       "      <td>\"New Jersey rapper Fetty Wap reached complete ...</td>\n",
       "      <td>0.0</td>\n",
       "    </tr>\n",
       "    <tr>\n",
       "      <td>76</td>\n",
       "      <td>coldcut</td>\n",
       "      <td>only heaven</td>\n",
       "      <td>\"“Deejays predate the internet, in a way,” Col...</td>\n",
       "      <td>0.0</td>\n",
       "    </tr>\n",
       "    <tr>\n",
       "      <td>84</td>\n",
       "      <td>bruno mars</td>\n",
       "      <td>24k magic</td>\n",
       "      <td>\"It’s good to remember the improbable things i...</td>\n",
       "      <td>0.0</td>\n",
       "    </tr>\n",
       "    <tr>\n",
       "      <td>92</td>\n",
       "      <td>various artists</td>\n",
       "      <td>\"pc music, vol. 2\"</td>\n",
       "      <td>\"Three years out from PC Music’s inception, it...</td>\n",
       "      <td>0.0</td>\n",
       "    </tr>\n",
       "    <tr>\n",
       "      <td>95</td>\n",
       "      <td>justice</td>\n",
       "      <td>woman</td>\n",
       "      <td>\"Justice’s 2007 debut album, †, was expertly e...</td>\n",
       "      <td>0.0</td>\n",
       "    </tr>\n",
       "    <tr>\n",
       "      <td>129</td>\n",
       "      <td>marching church</td>\n",
       "      <td>telling it like it is</td>\n",
       "      <td>\"All the world’s a stage to Elias Bender Rønne...</td>\n",
       "      <td>0.0</td>\n",
       "    </tr>\n",
       "    <tr>\n",
       "      <td>133</td>\n",
       "      <td>j.g. biberkopf</td>\n",
       "      <td>ecologies ii: ecosystems of excess</td>\n",
       "      <td>\"Jacques Gaspard Biberkopf makes music for tur...</td>\n",
       "      <td>0.0</td>\n",
       "    </tr>\n",
       "    <tr>\n",
       "      <td>134</td>\n",
       "      <td>animals as leaders</td>\n",
       "      <td>the madness of many</td>\n",
       "      <td>\"Ever since the cartoonish screaming face of I...</td>\n",
       "      <td>0.0</td>\n",
       "    </tr>\n",
       "    <tr>\n",
       "      <td>141</td>\n",
       "      <td>emeli sand</td>\n",
       "      <td>long live the angels</td>\n",
       "      <td>\"For the better part of the 2010s, the role of...</td>\n",
       "      <td>0.0</td>\n",
       "    </tr>\n",
       "    <tr>\n",
       "      <td>149</td>\n",
       "      <td>various artists</td>\n",
       "      <td>bleed for this ost</td>\n",
       "      <td>\"Every year, the film industry reliably churns...</td>\n",
       "      <td>0.0</td>\n",
       "    </tr>\n",
       "    <tr>\n",
       "      <td>154</td>\n",
       "      <td>kool a.d.</td>\n",
       "      <td>have a nice dream</td>\n",
       "      <td>\"Since July alone the former Das Racist member...</td>\n",
       "      <td>0.0</td>\n",
       "    </tr>\n",
       "    <tr>\n",
       "      <td>161</td>\n",
       "      <td>the chainsmokers</td>\n",
       "      <td>collage</td>\n",
       "      <td>\"Bret Easton Ellis recently said if he were to...</td>\n",
       "      <td>0.0</td>\n",
       "    </tr>\n",
       "    <tr>\n",
       "      <td>163</td>\n",
       "      <td>tim buckley</td>\n",
       "      <td>\"lady, give me your key: the unissued 1967 sol...</td>\n",
       "      <td>\"While their recorded output was inversely pro...</td>\n",
       "      <td>0.0</td>\n",
       "    </tr>\n",
       "    <tr>\n",
       "      <td>165</td>\n",
       "      <td>sleigh bells</td>\n",
       "      <td>jessica rabbit</td>\n",
       "      <td>\"Having watched the shelf life for buzz bands ...</td>\n",
       "      <td>0.0</td>\n",
       "    </tr>\n",
       "    <tr>\n",
       "      <td>166</td>\n",
       "      <td>jeezy</td>\n",
       "      <td>trap or die 3</td>\n",
       "      <td>\"Eventually every rapper hits the point where ...</td>\n",
       "      <td>0.0</td>\n",
       "    </tr>\n",
       "    <tr>\n",
       "      <td>178</td>\n",
       "      <td>the dean ween group</td>\n",
       "      <td>the deaner album</td>\n",
       "      <td>\"Ween famously broke up in 2012 after Aaron Fr...</td>\n",
       "      <td>0.0</td>\n",
       "    </tr>\n",
       "  </tbody>\n",
       "</table>\n",
       "</div>"
      ],
      "text/plain": [
       "                  artist                                              title  \\\n",
       "9                the lox                       filthy america its beautiful   \n",
       "13            yasiin bey                                      december 99th   \n",
       "21       nine inch nails                           not the actual events ep   \n",
       "29               ab-soul                                 do what thou wilt.   \n",
       "35                 hodgy                      fireplace: thenottheotherside   \n",
       "37                a-trak                   in the loop: a decade of remixes   \n",
       "39        kevin abstract          american boyfriend: a suburban love story   \n",
       "41              deadmau5                                      w:/2016album/   \n",
       "45           post malone                                             stoney   \n",
       "54       various artists                               the hamilton mixtape   \n",
       "69         alex izenberg                                          harlequin   \n",
       "71             fetty wap                                            zoovier   \n",
       "76               coldcut                                        only heaven   \n",
       "84            bruno mars                                          24k magic   \n",
       "92       various artists                                 \"pc music, vol. 2\"   \n",
       "95               justice                                              woman   \n",
       "129      marching church                              telling it like it is   \n",
       "133       j.g. biberkopf                 ecologies ii: ecosystems of excess   \n",
       "134   animals as leaders                                the madness of many   \n",
       "141           emeli sand                               long live the angels   \n",
       "149      various artists                                 bleed for this ost   \n",
       "154            kool a.d.                                  have a nice dream   \n",
       "161     the chainsmokers                                           collage    \n",
       "163          tim buckley  \"lady, give me your key: the unissued 1967 sol...   \n",
       "165         sleigh bells                                     jessica rabbit   \n",
       "166                jeezy                                      trap or die 3   \n",
       "178  the dean ween group                                   the deaner album   \n",
       "\n",
       "                                               content  score  \n",
       "9    \"There were innumerable cameos at the Bad Boy ...    0.0  \n",
       "13   \"In January 2016, rapper/actor Yasiin Bey anno...    0.0  \n",
       "21   \"Nine Inch Nails mastermind Trent Reznor has s...    0.0  \n",
       "29   \"Occultist and ceremonial magician Aleister Cr...    0.0  \n",
       "35   \"Technically, Fireplace: TheNotTheOtherSide is...    0.0  \n",
       "37   \"“Making a song from alpha to omega is challen...    0.0  \n",
       "39   \"Kevin Abstract just happens to rap; in anothe...    0.0  \n",
       "41   \"There aren’t many electronic dance musicians ...    0.0  \n",
       "45   \"“White Iverson” is not a foundational brick; ...    0.0  \n",
       "54   \"The Hamilton original cast recording recently...    0.0  \n",
       "69   \"Los Angeles songwriter Alex Izenberg describe...    0.0  \n",
       "71   \"New Jersey rapper Fetty Wap reached complete ...    0.0  \n",
       "76   \"“Deejays predate the internet, in a way,” Col...    0.0  \n",
       "84   \"It’s good to remember the improbable things i...    0.0  \n",
       "92   \"Three years out from PC Music’s inception, it...    0.0  \n",
       "95   \"Justice’s 2007 debut album, †, was expertly e...    0.0  \n",
       "129  \"All the world’s a stage to Elias Bender Rønne...    0.0  \n",
       "133  \"Jacques Gaspard Biberkopf makes music for tur...    0.0  \n",
       "134  \"Ever since the cartoonish screaming face of I...    0.0  \n",
       "141  \"For the better part of the 2010s, the role of...    0.0  \n",
       "149  \"Every year, the film industry reliably churns...    0.0  \n",
       "154  \"Since July alone the former Das Racist member...    0.0  \n",
       "161  \"Bret Easton Ellis recently said if he were to...    0.0  \n",
       "163  \"While their recorded output was inversely pro...    0.0  \n",
       "165  \"Having watched the shelf life for buzz bands ...    0.0  \n",
       "166  \"Eventually every rapper hits the point where ...    0.0  \n",
       "178  \"Ween famously broke up in 2012 after Aaron Fr...    0.0  "
      ]
     },
     "execution_count": 123,
     "metadata": {},
     "output_type": "execute_result"
    }
   ],
   "source": [
    "dataset2 = pd.read_csv('binary_reviews_long.tsv', delimiter='\\t', quoting=3)\n",
    "dataset2[dataset2['score'] == 0]"
   ]
  },
  {
   "cell_type": "markdown",
   "metadata": {},
   "source": [
    "### Cleaning the texts"
   ]
  },
  {
   "cell_type": "code",
   "execution_count": 124,
   "metadata": {},
   "outputs": [],
   "source": [
    "import re\n",
    "import nltk\n",
    "#nltk.download('stopwords')\n",
    "from nltk.corpus import stopwords\n",
    "from nltk.stem.porter import PorterStemmer\n",
    "corpus = []\n",
    "for i in range(0, 200):\n",
    "    review = re.sub('[^a-zA-Z]', ' ', dataset2['content'][i])\n",
    "    review = review.lower()\n",
    "    review = review.split()\n",
    "    ps = PorterStemmer()\n",
    "    review = [ps.stem(word) for word in review if not word in set(stopwords.words('english'))]\n",
    "    #^Here, I am taking all the words in the review that are not in the stopwords list.\n",
    "    #I'm using a set rather than a list because it will be faster for our algorithm.\n",
    "    review = ' '.join(review)\n",
    "    #^Joining back the different words in the review list to turn them back into a string.\n",
    "    #We use ' ' to separate all the words in the review.\n",
    "    corpus.append(review)"
   ]
  },
  {
   "cell_type": "markdown",
   "metadata": {},
   "source": [
    "### Creating the Bag of Words Model"
   ]
  },
  {
   "cell_type": "markdown",
   "metadata": {},
   "source": [
    "Take all the unique words in the reviews. We will then have a table where the rows correspond to the reviews and the columns correspond each of the different words that are in the corpus."
   ]
  },
  {
   "cell_type": "code",
   "execution_count": 125,
   "metadata": {},
   "outputs": [
    {
     "name": "stdout",
     "output_type": "stream",
     "text": [
      "Matrix: \n",
      " [[0 0 0 ... 0 0 0]\n",
      " [0 0 0 ... 0 0 0]\n",
      " [0 0 0 ... 0 0 0]\n",
      " ...\n",
      " [0 0 0 ... 0 0 0]\n",
      " [0 0 0 ... 0 0 0]\n",
      " [0 0 0 ... 0 0 1]]\n",
      "dimension:  (200, 12522)\n"
     ]
    }
   ],
   "source": [
    "from sklearn.feature_extraction.text import CountVectorizer\n",
    "cv = CountVectorizer()\n",
    "#Our features, fit on our corpus and then transform to put all diff words to its own column.\n",
    "X = cv.fit_transform(corpus).toarray()\n",
    "print(\"Matrix: \\n\", X)\n",
    "print(\"dimension: \", X.shape)"
   ]
  },
  {
   "cell_type": "markdown",
   "metadata": {},
   "source": [
    "X is a sparse matrix. Here we see that there are 12522 columns, meaning there were 12522 unique words. We can filter the non-relevant words by only taking the n most frequent words. We do this to reduce sparsity and to train our algorithm to make better correlations between the words in the review and the outcome of the review."
   ]
  },
  {
   "cell_type": "markdown",
   "metadata": {},
   "source": [
    "max_featuresint or None, default=None:\n",
    "If not None, build a vocabulary that only consider the top max_features ordered by term frequency across the corpus.\n",
    "In other words, max_features=n will return the words that appear n times or more."
   ]
  },
  {
   "cell_type": "markdown",
   "metadata": {},
   "source": [
    "Creating a feature matrix out of words that appear n times or more..."
   ]
  },
  {
   "cell_type": "code",
   "execution_count": 129,
   "metadata": {},
   "outputs": [],
   "source": [
    "cv = CountVectorizer(ngram_range=(1, 1), max_features=100)\n",
    "cv_fit = cv.fit_transform(corpus)#.toarray()"
   ]
  },
  {
   "cell_type": "markdown",
   "metadata": {},
   "source": [
    "To double check if the words were indeed coming up more than n times, we can display the two arrays as a dictionary that consists of words and their counts."
   ]
  },
  {
   "cell_type": "code",
   "execution_count": 130,
   "metadata": {},
   "outputs": [
    {
     "data": {
      "text/plain": [
       "{'album': 720,\n",
       " 'also': 220,\n",
       " 'alway': 110,\n",
       " 'around': 106,\n",
       " 'artist': 141,\n",
       " 'back': 201,\n",
       " 'band': 362,\n",
       " 'beat': 135,\n",
       " 'best': 115,\n",
       " 'black': 133,\n",
       " 'call': 118,\n",
       " 'come': 219,\n",
       " 'could': 157,\n",
       " 'day': 109,\n",
       " 'drum': 104,\n",
       " 'earli': 124,\n",
       " 'end': 133,\n",
       " 'even': 348,\n",
       " 'featur': 102,\n",
       " 'feel': 310,\n",
       " 'find': 111,\n",
       " 'first': 272,\n",
       " 'get': 181,\n",
       " 'go': 167,\n",
       " 'good': 103,\n",
       " 'group': 116,\n",
       " 'guitar': 183,\n",
       " 'instrument': 117,\n",
       " 'know': 123,\n",
       " 'last': 125,\n",
       " 'less': 110,\n",
       " 'life': 111,\n",
       " 'like': 909,\n",
       " 'line': 135,\n",
       " 'listen': 163,\n",
       " 'live': 163,\n",
       " 'long': 145,\n",
       " 'love': 152,\n",
       " 'lyric': 115,\n",
       " 'made': 129,\n",
       " 'make': 284,\n",
       " 'mani': 119,\n",
       " 'might': 135,\n",
       " 'minut': 157,\n",
       " 'moment': 130,\n",
       " 'much': 204,\n",
       " 'music': 614,\n",
       " 'name': 107,\n",
       " 'never': 156,\n",
       " 'new': 344,\n",
       " 'often': 121,\n",
       " 'old': 105,\n",
       " 'one': 506,\n",
       " 'open': 184,\n",
       " 'part': 116,\n",
       " 'perform': 137,\n",
       " 'piec': 142,\n",
       " 'play': 224,\n",
       " 'point': 120,\n",
       " 'pop': 176,\n",
       " 'produc': 158,\n",
       " 'product': 113,\n",
       " 'project': 111,\n",
       " 'punk': 119,\n",
       " 'rap': 141,\n",
       " 'record': 494,\n",
       " 'releas': 264,\n",
       " 'rock': 166,\n",
       " 'seem': 158,\n",
       " 'sens': 108,\n",
       " 'set': 181,\n",
       " 'show': 133,\n",
       " 'sinc': 105,\n",
       " 'singl': 127,\n",
       " 'solo': 104,\n",
       " 'someth': 161,\n",
       " 'song': 637,\n",
       " 'sound': 554,\n",
       " 'start': 109,\n",
       " 'still': 207,\n",
       " 'take': 223,\n",
       " 'thing': 126,\n",
       " 'though': 143,\n",
       " 'three': 122,\n",
       " 'time': 349,\n",
       " 'titl': 140,\n",
       " 'track': 394,\n",
       " 'turn': 114,\n",
       " 'two': 224,\n",
       " 'use': 136,\n",
       " 'vocal': 127,\n",
       " 'voic': 188,\n",
       " 'want': 114,\n",
       " 'way': 243,\n",
       " 'well': 149,\n",
       " 'work': 308,\n",
       " 'world': 136,\n",
       " 'would': 207,\n",
       " 'year': 365,\n",
       " 'yet': 107}"
      ]
     },
     "execution_count": 130,
     "metadata": {},
     "output_type": "execute_result"
    }
   ],
   "source": [
    "a = cv.get_feature_names()\n",
    "b = cv_fit.toarray().sum(axis=0)\n",
    "\n",
    "res = {a[i]: b[i] for i in range(len(a))} \n",
    "res"
   ]
  },
  {
   "cell_type": "markdown",
   "metadata": {},
   "source": [
    "After playing around with the max_feature argument, its best to use max_feature=100, since there are no words that appear less than 100 times on this setting. Previously, I set max_feature to 110 and their were words appearing less than 110 times, so I had to cut those words out by using an optimal smaller number."
   ]
  },
  {
   "cell_type": "code",
   "execution_count": 131,
   "metadata": {},
   "outputs": [
    {
     "name": "stdout",
     "output_type": "stream",
     "text": [
      "Matrix: \n",
      " [[11  1  1 ...  1  6  0]\n",
      " [ 7  0  0 ...  0  1  0]\n",
      " [ 0  1  0 ...  0  1  0]\n",
      " ...\n",
      " [ 0  0  0 ...  0  0  0]\n",
      " [ 2  2  0 ...  1  2  0]\n",
      " [ 0  2  0 ...  1  0  0]]\n",
      "dimension:  (200, 100)\n"
     ]
    }
   ],
   "source": [
    "X = cv_fit.toarray()\n",
    "print(\"Matrix: \\n\", X)\n",
    "print(\"dimension: \", X.shape)"
   ]
  },
  {
   "cell_type": "code",
   "execution_count": 132,
   "metadata": {},
   "outputs": [
    {
     "data": {
      "text/plain": [
       "(200,)"
      ]
     },
     "execution_count": 132,
     "metadata": {},
     "output_type": "execute_result"
    }
   ],
   "source": [
    "y = dataset2.iloc[:, 3].values\n",
    "y.shape"
   ]
  },
  {
   "cell_type": "markdown",
   "metadata": {},
   "source": [
    "### Build Our Model"
   ]
  },
  {
   "cell_type": "markdown",
   "metadata": {},
   "source": [
    "Now this is just a classification problem! The most common techniques used for NLP are Naive Bayes, Decision Tree, and Random Forest. Let's see the perfomance of these three and pick the best one."
   ]
  },
  {
   "cell_type": "markdown",
   "metadata": {},
   "source": [
    "### Naive Bayes"
   ]
  },
  {
   "cell_type": "code",
   "execution_count": 133,
   "metadata": {},
   "outputs": [],
   "source": [
    "#Splitting the dataset\n",
    "from sklearn.model_selection import train_test_split\n",
    "X_train, X_test, y_train, y_test = train_test_split(X, y, test_size = .20, random_state=0)\n",
    "\n",
    "#Fitting to the training set\n",
    "from sklearn.naive_bayes import GaussianNB\n",
    "classifier = GaussianNB()\n",
    "classifier.fit(X_train, y_train)\n",
    "\n",
    "#Predicting the test set results\n",
    "y_pred = classifier.predict(X_test)\n",
    "\n",
    "#Making the Confusion Matrix\n",
    "from sklearn.metrics import confusion_matrix\n",
    "cm = confusion_matrix(y_test, y_pred)"
   ]
  },
  {
   "cell_type": "code",
   "execution_count": 137,
   "metadata": {},
   "outputs": [
    {
     "name": "stdout",
     "output_type": "stream",
     "text": [
      "Confusion Matrix: \n",
      "\n"
     ]
    },
    {
     "data": {
      "image/png": "[encoded data removed]",
      "text/plain": [
       "<Figure size 432x288 with 2 Axes>"
      ]
     },
     "metadata": {
      "needs_background": "light"
     },
     "output_type": "display_data"
    }
   ],
   "source": [
    "from sklearn.metrics import plot_confusion_matrix\n",
    "class_names = dataset.score\n",
    "print(\"Confusion Matrix: \\n\")\n",
    "_=plot_confusion_matrix(classifier, X_test, y_test, display_labels = ['Bad Album', 'Good Album'], cmap=plt.cm.Blues)"
   ]
  },
  {
   "cell_type": "code",
   "execution_count": 138,
   "metadata": {},
   "outputs": [
    {
     "name": "stdout",
     "output_type": "stream",
     "text": [
      "Accuracy:  0.5\n",
      "Precision:  0.94\n",
      "Recall:  0.4722222222222222\n",
      "F1 Score:  0.6296296296296297\n"
     ]
    }
   ],
   "source": [
    "#Manual Calculations\n",
    "ac = (17 + 3)/(17+3+1+19)\n",
    "print(\"Accuracy: \", ac)\n",
    "\n",
    "pr = (17/(17+1))\n",
    "print(\"Precision: \", round(pr, 2))\n",
    "\n",
    "re = (17/(17+19))\n",
    "print(\"Recall: \", re)\n",
    "\n",
    "fs = (2*pr*re)/(pr+re)\n",
    "print(\"F1 Score: \", fs)"
   ]
  },
  {
   "cell_type": "code",
   "execution_count": 139,
   "metadata": {},
   "outputs": [
    {
     "name": "stdout",
     "output_type": "stream",
     "text": [
      "Accuracy:  0.5\n",
      "Precision:  0.9444444444444444\n",
      "Recall:  0.4722222222222222\n",
      "F1 Score:  0.6296296296296297\n"
     ]
    }
   ],
   "source": [
    "from sklearn.metrics import accuracy_score, precision_score, recall_score, f1_score\n",
    "print(\"Accuracy: \", accuracy_score(y_test, y_pred))\n",
    "print(\"Precision: \", precision_score(y_test, y_pred))\n",
    "print(\"Recall: \", recall_score(y_test, y_pred))\n",
    "print(\"F1 Score: \", f1_score(y_test, y_pred))"
   ]
  },
  {
   "cell_type": "code",
   "execution_count": 140,
   "metadata": {},
   "outputs": [
    {
     "name": "stdout",
     "output_type": "stream",
     "text": [
      "              precision    recall  f1-score   support\n",
      "\n",
      "         0.0       0.14      0.75      0.23         4\n",
      "         1.0       0.94      0.47      0.63        36\n",
      "\n",
      "    accuracy                           0.50        40\n",
      "   macro avg       0.54      0.61      0.43        40\n",
      "weighted avg       0.86      0.50      0.59        40\n",
      "\n"
     ]
    }
   ],
   "source": [
    "#Or we can use this function to make things quicker\n",
    "from sklearn.metrics import classification_report\n",
    "print(classification_report(y_test, y_pred))"
   ]
  },
  {
   "cell_type": "markdown",
   "metadata": {},
   "source": [
    "All the scores match! Great, now to make things quicker for the other model measurements, we will stick with the classification_report function."
   ]
  },
  {
   "cell_type": "markdown",
   "metadata": {},
   "source": [
    "### Decision Tree Classification"
   ]
  },
  {
   "cell_type": "code",
   "execution_count": 148,
   "metadata": {},
   "outputs": [],
   "source": [
    "from sklearn.tree import DecisionTreeClassifier\n",
    "classifier = DecisionTreeClassifier(criterion = 'entropy', random_state = 0)\n",
    "classifier.fit(X_train, y_train)\n",
    "\n",
    "y_pred = classifier.predict(X_test)"
   ]
  },
  {
   "cell_type": "code",
   "execution_count": 149,
   "metadata": {},
   "outputs": [
    {
     "name": "stdout",
     "output_type": "stream",
     "text": [
      "Confusion Matrix: \n",
      "\n"
     ]
    },
    {
     "data": {
      "image/png": "[encoded data removed]",
      "text/plain": [
       "<Figure size 432x288 with 2 Axes>"
      ]
     },
     "metadata": {
      "needs_background": "light"
     },
     "output_type": "display_data"
    }
   ],
   "source": [
    "class_names = dataset.score\n",
    "print(\"Confusion Matrix: \\n\")\n",
    "_=plot_confusion_matrix(classifier, X_test, y_test, display_labels = ['Bad Album', 'Good Album'], cmap=plt.cm.Blues)"
   ]
  },
  {
   "cell_type": "code",
   "execution_count": 150,
   "metadata": {},
   "outputs": [
    {
     "name": "stdout",
     "output_type": "stream",
     "text": [
      "              precision    recall  f1-score   support\n",
      "\n",
      "         0.0       0.14      0.25      0.18         4\n",
      "         1.0       0.91      0.83      0.87        36\n",
      "\n",
      "    accuracy                           0.78        40\n",
      "   macro avg       0.53      0.54      0.53        40\n",
      "weighted avg       0.83      0.78      0.80        40\n",
      "\n"
     ]
    }
   ],
   "source": [
    "print(classification_report(y_test, y_pred))"
   ]
  },
  {
   "cell_type": "markdown",
   "metadata": {},
   "source": [
    "### Random Forest Classifier"
   ]
  },
  {
   "cell_type": "code",
   "execution_count": 154,
   "metadata": {},
   "outputs": [],
   "source": [
    "from sklearn.ensemble import RandomForestClassifier\n",
    "classifier = RandomForestClassifier(n_estimators = 10, criterion = 'entropy', random_state = 0)\n",
    "classifier.fit(X_train, y_train)\n",
    "\n",
    "y_pred = classifier.predict(X_test)"
   ]
  },
  {
   "cell_type": "code",
   "execution_count": 155,
   "metadata": {},
   "outputs": [
    {
     "name": "stdout",
     "output_type": "stream",
     "text": [
      "Confusion Matrix: \n",
      "\n"
     ]
    },
    {
     "data": {
      "image/png": "[encoded data removed]",
      "text/plain": [
       "<Figure size 432x288 with 2 Axes>"
      ]
     },
     "metadata": {
      "needs_background": "light"
     },
     "output_type": "display_data"
    }
   ],
   "source": [
    "class_names = dataset.score\n",
    "print(\"Confusion Matrix: \\n\")\n",
    "_=plot_confusion_matrix(classifier, X_test, y_test, display_labels = ['Bad Album', 'Good Album'], cmap=plt.cm.Blues)"
   ]
  },
  {
   "cell_type": "code",
   "execution_count": 156,
   "metadata": {},
   "outputs": [
    {
     "name": "stdout",
     "output_type": "stream",
     "text": [
      "              precision    recall  f1-score   support\n",
      "\n",
      "         0.0       0.00      0.00      0.00         4\n",
      "         1.0       0.89      0.94      0.92        36\n",
      "\n",
      "    accuracy                           0.85        40\n",
      "   macro avg       0.45      0.47      0.46        40\n",
      "weighted avg       0.81      0.85      0.83        40\n",
      "\n"
     ]
    }
   ],
   "source": [
    "print(classification_report(y_test, y_pred))"
   ]
  },
  {
   "cell_type": "markdown",
   "metadata": {},
   "source": [
    "# Conclusion"
   ]
  },
  {
   "cell_type": "markdown",
   "metadata": {},
   "source": [
    "Looks like the Random Forest Classifier performed best out of these three models! The only category in which Random Forest does a little worse is Precision, where the sample elements are a little less precise than the other two models.\n",
    "So by creating a Bag of Words and then running a Random Forest Classification algorithm on it, we can predict whether or not an album will be good (scoring more than 6.5) or bad (scoring less than 6.5) with 85% Accuracy!"
   ]
  }
 ],
 "metadata": {
  "kernelspec": {
   "display_name": "Python 3",
   "language": "python",
   "name": "python3"
  },
  "language_info": {
   "codemirror_mode": {
    "name": "ipython",
    "version": 3
   },
   "file_extension": ".py",
   "mimetype": "text/x-python",
   "name": "python",
   "nbconvert_exporter": "python",
   "pygments_lexer": "ipython3",
   "version": "3.7.4"
  }
 },
 "nbformat": 4,
 "nbformat_minor": 2
}
